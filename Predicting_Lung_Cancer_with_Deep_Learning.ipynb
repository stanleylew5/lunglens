{
  "cells": [
    {
      "cell_type": "code",
      "execution_count": 1,
      "metadata": {
        "id": "x8eIyeOJfc5C"
      },
      "outputs": [],
      "source": [
        "import pandas as pd\n",
        "import numpy as np\n",
        "import matplotlib.pyplot as plt\n",
        "import tensorflow as tf\n",
        "from tensorflow import keras\n",
        "from keras.preprocessing.image import ImageDataGenerator\n",
        "import cv2\n",
        "import os\n",
        "import glob as gb"
      ]
    },
    {
      "cell_type": "markdown",
      "metadata": {
        "id": "WnC8p8gsegsB"
      },
      "source": [
        "\n",
        "\n",
        "*   pandas and numpy are used for data manipulation and numerical operations.\n",
        "*   matplotlib.pyplot helps in plotting graphs and visualizing data.\n",
        "*   tensorflow and keras are core libraries for building and training deep learning models.\n",
        "*   ImageDataGenerator from keras is used for data augmentation, a technique to increase the diversity of your training data.\n",
        "*   cv2 (OpenCV) is used for image processing tasks.\n",
        "*   os and glob are used for file operations, like navigating directories and handling files.\n",
        "\n",
        "\n",
        "\n",
        "\n",
        "\n",
        "\n"
      ]
    },
    {
      "cell_type": "markdown",
      "metadata": {
        "id": "decCaGbsyJRd"
      },
      "source": [
        "This code mounts your Google Drive to the Colab environment, allowing access to files stored there."
      ]
    },
    {
      "cell_type": "code",
      "execution_count": 2,
      "metadata": {
        "id": "AcuqK_Ibf2VA",
        "colab": {
          "base_uri": "https://localhost:8080/"
        },
        "outputId": "800575f2-4631-4cdf-eb88-7c4991909ea7"
      },
      "outputs": [
        {
          "output_type": "stream",
          "name": "stdout",
          "text": [
            "Mounted at /content/drive\n"
          ]
        }
      ],
      "source": [
        "from google.colab import drive\n",
        "drive.mount('/content/drive')"
      ]
    },
    {
      "cell_type": "markdown",
      "metadata": {
        "id": "47XnMRukNpKz"
      },
      "source": [
        "Starting data prep\n"
      ]
    },
    {
      "cell_type": "markdown",
      "metadata": {
        "id": "qzlWL1AMOZIv"
      },
      "source": [
        "This section includes a function load_images_and_labels which loads images from a specified directory and assigns them a label (0 for normal, 1 for cancer).\n",
        "Images are resized and converted to arrays, forming the input data for the model.\n",
        "The data is then combined, shuffled, and split into training and testing sets, ensuring a mix of both classes in each set."
      ]
    },
    {
      "cell_type": "code",
      "execution_count": 3,
      "metadata": {
        "id": "Bbc8f5cVR6mu"
      },
      "outputs": [],
      "source": [
        "#start here\n",
        "import os\n",
        "import numpy as np\n",
        "from sklearn.model_selection import train_test_split\n",
        "from tensorflow.keras.preprocessing.image import ImageDataGenerator, load_img, img_to_array\n",
        "\n",
        "# Paths to your data directories\n",
        "normal_dir = '/content/drive/MyDrive/rosehackProject/lungData/learningData/train/Normal cases'\n",
        "cancer_dir = '/content/drive/MyDrive/rosehackProject/lungData/learningData/train/LungCancer'  # This should include both Benign and Malignant images\n",
        "\n",
        "# Load images and labels\n",
        "def load_images_and_labels(category_dir, label):\n",
        "    images = []\n",
        "    labels = []\n",
        "    for filename in os.listdir(category_dir):\n",
        "        if filename.endswith('.jpg') or filename.endswith('.png'):  # Check for image files\n",
        "            img_path = os.path.join(category_dir, filename)\n",
        "            img = load_img(img_path, target_size=(64, 64))  # Resize\n",
        "            img = img_to_array(img)\n",
        "            images.append(img)\n",
        "            labels.append(label)\n",
        "    return images, labels\n",
        "\n",
        "# Load all images\n",
        "normal_images, normal_labels = load_images_and_labels(normal_dir, 0)\n",
        "cancer_images, cancer_labels = load_images_and_labels(cancer_dir, 1)\n",
        "\n",
        "# Combine data\n",
        "images = np.array(normal_images + cancer_images)\n",
        "labels = np.array(normal_labels + cancer_labels)\n",
        "\n",
        "# Shuffle the data\n",
        "permutation = np.random.permutation(images.shape[0])\n",
        "images = images[permutation]\n",
        "labels = labels[permutation]\n",
        "\n",
        "# Split data into train and test sets\n",
        "train_x_orig, test_x_orig, train_y, test_y = train_test_split(images, labels, test_size=0.2, random_state=1)\n",
        "train_y = train_y.reshape((1, train_y.shape[0]))\n",
        "test_y = test_y.reshape((1, test_y.shape[0]))\n"
      ]
    },
    {
      "cell_type": "markdown",
      "metadata": {
        "id": "-_gLXV5XiBey"
      },
      "source": [
        "This code flattens the image data. Flattening transforms the 2D image into a 1D array, making it suitable for input into the neural network.\n",
        "It also normalizes the pixel values by dividing by 255 (the maximum pixel value), so all values are between 0 and 1. This normalization step helps in speeding up the training process and improving performance."
      ]
    },
    {
      "cell_type": "code",
      "execution_count": 4,
      "metadata": {
        "id": "G7nLPq8cSNMj"
      },
      "outputs": [],
      "source": [
        "# Flatten the images\n",
        "train_x_flatten = train_x_orig.reshape(train_x_orig.shape[0], -1).T\n",
        "test_x_flatten = test_x_orig.reshape(test_x_orig.shape[0], -1).T\n",
        "\n",
        "# Normalize pixel values\n",
        "train_x = train_x_flatten / 255.\n",
        "test_x = test_x_flatten / 255.\n"
      ]
    },
    {
      "cell_type": "markdown",
      "metadata": {
        "id": "C_huhmifiA9s"
      },
      "source": [
        "This code calculates and prints the number of training and testing examples (m_train and m_test) and the size of the images (num_px). It's crucial to know these dimensions for designing the neural network architecture and ensuring that the data shapes are compatible with the network layers.\n"
      ]
    },
    {
      "cell_type": "code",
      "execution_count": 5,
      "metadata": {
        "id": "hLiB7MAtSSvI",
        "colab": {
          "base_uri": "https://localhost:8080/"
        },
        "outputId": "84b04428-4ac3-4b74-a06d-f8c6c575e5c1"
      },
      "outputs": [
        {
          "output_type": "stream",
          "name": "stdout",
          "text": [
            "Number of training examples: 856\n",
            "Number of testing examples: 214\n",
            "Each image is of size: (64, 64, 3)\n",
            "train_x_orig shape: (856, 64, 64, 3)\n",
            "train_y shape: (1, 856)\n",
            "test_x_orig shape: (214, 64, 64, 3)\n",
            "test_y shape: (1, 214)\n"
          ]
        }
      ],
      "source": [
        "m_train = train_x_orig.shape[0]\n",
        "num_px = train_x_orig.shape[1]\n",
        "m_test = test_x_orig.shape[0]\n",
        "\n",
        "print (\"Number of training examples: \" + str(m_train))\n",
        "print (\"Number of testing examples: \" + str(m_test))\n",
        "print (\"Each image is of size: (\" + str(num_px) + \", \" + str(num_px) + \", 3)\")\n",
        "print (\"train_x_orig shape: \" + str(train_x_orig.shape))\n",
        "print (\"train_y shape: \" + str(train_y.shape))\n",
        "print (\"test_x_orig shape: \" + str(test_x_orig.shape))\n",
        "print (\"test_y shape: \" + str(test_y.shape))"
      ]
    },
    {
      "cell_type": "markdown",
      "metadata": {
        "id": "KhXdB-RdiWxI"
      },
      "source": [
        "n_x is the size of the input layer (number of input features per example).\n",
        "n_h is the size of the hidden layer (856 units in this case), which is a parameter that can be tuned.\n",
        "n_y is the size of the output layer. Here, it's 1, indicating a binary classification (cancer or no cancer).\n",
        "layers_dims is a tuple that holds the dimensions of each layer in the network. This is helpful for initializing parameters and building the layers of the model."
      ]
    },
    {
      "cell_type": "code",
      "execution_count": 6,
      "metadata": {
        "id": "nfZRI1G0TGhi"
      },
      "outputs": [],
      "source": [
        "n_x = train_x.shape[0]\n",
        "n_h = 856\n",
        "n_y = 1\n",
        "layers_dims = (n_x, n_h, n_y)"
      ]
    },
    {
      "cell_type": "markdown",
      "metadata": {
        "id": "H8sL_WOnifrq"
      },
      "source": [
        "This function initializes the weights and biases for a two-layer neural network (one hidden layer).\n",
        "W1 and b1 are the weights and biases for the hidden layer, and W2 and b2 are for the output layer.\n",
        "The weights are initialized randomly to break symmetry, and biases are initialized to zero. Small random values for weights (multiplied by 0.01) help in speeding up the training by ensuring that the neurons initially fire (activate) in a more diverse manner."
      ]
    },
    {
      "cell_type": "code",
      "execution_count": 7,
      "metadata": {
        "id": "EFBILN5oTwDK"
      },
      "outputs": [],
      "source": [
        "def initialize_parameters(n_x, n_h, n_y):\n",
        "    np.random.seed(2)\n",
        "\n",
        "    W1 = np.random.randn(n_h, n_x) * 0.01\n",
        "    b1 = np.zeros(shape=(n_h, 1))\n",
        "    W2 = np.random.randn(n_y, n_h) * 0.01\n",
        "    b2 = np.zeros(shape=(n_y, 1))\n",
        "\n",
        "    assert (W1.shape == (n_h, n_x))\n",
        "    assert (b1.shape == (n_h, 1))\n",
        "    assert (W2.shape == (n_y, n_h))\n",
        "    assert (b2.shape == (n_y, 1))\n",
        "\n",
        "    parameters = {\"W1\": W1,\n",
        "                  \"b1\": b1,\n",
        "                  \"W2\": W2,\n",
        "                  \"b2\": b2}\n",
        "\n",
        "    return parameters"
      ]
    },
    {
      "cell_type": "markdown",
      "metadata": {
        "id": "4qcoSUJpihC0"
      },
      "source": [
        "This function implements forward propagation for a linear->activation layer.\n",
        "A_prev is the activations from the previous layer (or input data), W and b are the weights and biases of the current layer.\n",
        "Depending on the activation parameter, which can be either \"sigmoid\" or \"relu\", this function applies the linear step (calculating Z = W*A_prev + b) and then the activation function.\n",
        "The output is A, the post-activation value for this layer, and cache, which stores variables used in the calculation for use in backpropagation."
      ]
    },
    {
      "cell_type": "code",
      "execution_count": 8,
      "metadata": {
        "id": "HmCAh9lsUPp7"
      },
      "outputs": [],
      "source": [
        "def linear_activation_forward(A_prev, W, b, activation):\n",
        "\n",
        "    if activation == \"sigmoid\":\n",
        "        Z, linear_cache = linear_forward(A_prev, W, b)\n",
        "        A, activation_cache = sigmoid(Z)\n",
        "\n",
        "    elif activation == \"relu\":\n",
        "        Z, linear_cache = linear_forward(A_prev, W, b)\n",
        "        A, activation_cache = relu(Z)\n",
        "\n",
        "    assert (A.shape == (W.shape[0], A_prev.shape[1]))\n",
        "    cache = (linear_cache, activation_cache)\n",
        "\n",
        "    return A, cache"
      ]
    },
    {
      "cell_type": "markdown",
      "metadata": {
        "id": "LAjdUl4IixSh"
      },
      "source": [
        "This function calculates the linear part of a layer's forward propagation.\n",
        "It takes the activations from the previous layer (A), the weights matrix (W), and the bias vector (b) and computes Z, the pre-activation parameter (essentially Z = W*A + b).\n",
        "This linear output Z will be passed through an activation function in the next step of forward propagation."
      ]
    },
    {
      "cell_type": "code",
      "execution_count": 9,
      "metadata": {
        "id": "CiM77zH3VvF2"
      },
      "outputs": [],
      "source": [
        "def linear_forward(A, W, b):\n",
        "    Z = np.dot(W, A) + b\n",
        "\n",
        "    assert(Z.shape == (W.shape[0], A.shape[1]))\n",
        "    cache = (A, W, b)\n",
        "\n",
        "    return Z, cache"
      ]
    },
    {
      "cell_type": "markdown",
      "metadata": {
        "id": "69XWexE_i0DR"
      },
      "source": [
        "This function is responsible for the backward propagation for a single \"linear->activation\" layer.\n",
        "It computes the gradient of the activation function (dA) with respect to the pre-activation (Z), which is necessary for updating the parameters (weights and biases).\n",
        "Depending on the activation function used (ReLU or Sigmoid), this function will use different methods to calculate the gradient."
      ]
    },
    {
      "cell_type": "code",
      "execution_count": 10,
      "metadata": {
        "id": "Ht8LOC-aV9Zj"
      },
      "outputs": [],
      "source": [
        "def linear_activation_backward(dA, cache, activation):\n",
        "    linear_cache, activation_cache = cache\n",
        "\n",
        "    if activation == \"relu\":\n",
        "        dZ = relu_backward(dA, activation_cache)\n",
        "\n",
        "    elif activation == \"sigmoid\":\n",
        "        dZ = sigmoid_backward(dA, activation_cache)\n",
        "    dA_prev, dW, db = linear_backward(dZ, linear_cache)\n",
        "\n",
        "    return dA_prev, dW, db"
      ]
    },
    {
      "cell_type": "markdown",
      "metadata": {
        "id": "w8TYvzsFjKPJ"
      },
      "source": [
        "relu_backward and sigmoid_backward are functions that compute the gradient of the cost with respect to Z for ReLU and Sigmoid activation functions, respectively.\n",
        "These gradients are used in the backpropagation process to update the weights and biases in the neural network."
      ]
    },
    {
      "cell_type": "code",
      "execution_count": 11,
      "metadata": {
        "id": "sjYMBkrqXhf2"
      },
      "outputs": [],
      "source": [
        "import numpy as np\n",
        "\n",
        "def sigmoid(Z):\n",
        "\n",
        "    A = 1/(1+np.exp(-Z))\n",
        "    cache = Z\n",
        "\n",
        "    return A, cache\n",
        "\n",
        "def relu(Z):\n",
        "\n",
        "    A = np.maximum(0,Z)\n",
        "\n",
        "    assert(A.shape == Z.shape)\n",
        "\n",
        "    cache = Z\n",
        "    return A, cache\n",
        "\n",
        "\n",
        "def relu_backward(dA, cache):\n",
        "\n",
        "    Z = cache\n",
        "    dZ = np.array(dA, copy=True)\n",
        "    dZ[Z <= 0] = 0\n",
        "\n",
        "    assert (dZ.shape == Z.shape)\n",
        "\n",
        "    return dZ\n",
        "\n",
        "def sigmoid_backward(dA, cache):\n",
        "\n",
        "    Z = cache\n",
        "\n",
        "    s = 1/(1+np.exp(-Z))\n",
        "    dZ = dA * s * (1-s)\n",
        "\n",
        "    assert (dZ.shape == Z.shape)\n",
        "\n",
        "    return dZ"
      ]
    },
    {
      "cell_type": "markdown",
      "metadata": {
        "id": "gEJ1cKNcjL0C"
      },
      "source": [
        "This function computes the cross-entropy cost, a common cost function used in binary classification problems.\n",
        "AL represents the probability vector corresponding to the label predictions, and Y is the true \"label\" vector.\n",
        "The cost function evaluates how well the model is performing by comparing the predicted output (AL) with the actual labels (Y). The lower the cost, the better the model is at predicting the correct labels."
      ]
    },
    {
      "cell_type": "code",
      "execution_count": 12,
      "metadata": {
        "id": "4aZwsF35Xx5a"
      },
      "outputs": [],
      "source": [
        "def compute_cost(AL, Y):\n",
        "\n",
        "    m = Y.shape[1]\n",
        "    cost = (-1 / m) * np.sum(np.multiply(Y, np.log(AL)) + np.multiply(1 - Y, np.log(1 - AL)))\n",
        "\n",
        "    cost = np.squeeze(cost)\n",
        "    assert(cost.shape == ())\n",
        "\n",
        "    return cost"
      ]
    },
    {
      "cell_type": "markdown",
      "metadata": {
        "id": "Bwvs_vppkEn1"
      },
      "source": [
        "This function implements the linear portion of backward propagation for a single layer.\n",
        "It calculates the gradients of the cost with respect to the linear output of the current layer (dZ), which are needed to update the weights (dW) and biases (db).\n",
        "cache contains the activations from the previous layer, the weights, and biases of the current layer. These are used to compute the gradients."
      ]
    },
    {
      "cell_type": "code",
      "execution_count": 13,
      "metadata": {
        "id": "uFmpHBIXZqPk"
      },
      "outputs": [],
      "source": [
        "def linear_backward(dZ, cache):\n",
        "    \"\"\"\n",
        "    Implement the linear portion of backward propagation for a single layer (layer l)\n",
        "\n",
        "    Arguments:\n",
        "    dZ -- Gradient of the cost with respect to the linear output (of current layer l)\n",
        "    cache -- tuple of values (A_prev, W, b) coming from the forward propagation in the current layer\n",
        "\n",
        "    Returns:\n",
        "    dA_prev -- Gradient of the cost with respect to the activation (of the previous layer l-1), same shape as A_prev\n",
        "    dW -- Gradient of the cost with respect to W (current layer l), same shape as W\n",
        "    db -- Gradient of the cost with respect to b (current layer l), same shape as b\n",
        "    \"\"\"\n",
        "    A_prev, W, b = cache\n",
        "    m = A_prev.shape[1]\n",
        "\n",
        "    dW = np.dot(dZ, cache[0].T) / m\n",
        "    db = np.squeeze(np.sum(dZ, axis=1, keepdims=True)) / m\n",
        "    dA_prev = np.dot(cache[1].T, dZ)\n",
        "\n",
        "    assert (dA_prev.shape == A_prev.shape)\n",
        "    assert (dW.shape == W.shape)\n",
        "    assert (isinstance(db, float) or isinstance(db, np.ndarray))\n",
        "\n",
        "    return dA_prev, dW, db"
      ]
    },
    {
      "cell_type": "markdown",
      "metadata": {
        "id": "X0-FmcLPkF0f"
      },
      "source": [
        "This function updates the model's parameters using gradient descent, an optimization algorithm used for minimizing the cost function.\n",
        "It iterates over all layers of the neural network and updates each parameter (W and b) in the direction that reduces the cost, using the gradients computed in backward propagation and a learning rate."
      ]
    },
    {
      "cell_type": "code",
      "execution_count": 14,
      "metadata": {
        "id": "3wnb2bFQbQ9C"
      },
      "outputs": [],
      "source": [
        "def update_parameters(parameters, grads, learning_rate):\n",
        "    \"\"\"\n",
        "    Update parameters using gradient descent\n",
        "\n",
        "    Arguments:\n",
        "    parameters -- python dictionary containing your parameters\n",
        "    grads -- python dictionary containing your gradients, output of L_model_backward\n",
        "\n",
        "    Returns:\n",
        "    parameters -- python dictionary containing your updated parameters\n",
        "                  parameters[\"W\" + str(l)] = ...\n",
        "                  parameters[\"b\" + str(l)] = ...\n",
        "    \"\"\"\n",
        "\n",
        "    L = len(parameters) // 2 # number of layers in the neural network\n",
        "\n",
        "    # Update rule for each parameter. Use a for loop.\n",
        "    for l in range(L):\n",
        "        parameters[\"W\" + str(l + 1)] = parameters[\"W\" + str(l + 1)] - learning_rate * grads[\"dW\" + str(l + 1)]\n",
        "        parameters[\"b\" + str(l + 1)] = parameters[\"b\" + str(l + 1)] - learning_rate * grads[\"db\" + str(l + 1)]\n",
        "\n",
        "    return parameters"
      ]
    },
    {
      "cell_type": "markdown",
      "metadata": {
        "id": "cUR_A4m2kWj1"
      },
      "source": [
        "This is the main function for building and training a two-layer neural network (one hidden layer and one output layer).\n",
        "It includes the entire workflow: initializing parameters, iterating over a number of iterations (epochs), conducting forward and backward propagation, updating parameters, and printing the cost at certain intervals.\n",
        "The function finally plots the cost over iterations to visualize the learning process and returns the trained parameters."
      ]
    },
    {
      "cell_type": "code",
      "execution_count": 15,
      "metadata": {
        "id": "U0e9HqMQTJO4"
      },
      "outputs": [],
      "source": [
        "def two_layer_model(X, Y, layers_dims, learning_rate=0.0075, num_iterations=3000, print_cost=False):\n",
        "\n",
        "    np.random.seed(1)\n",
        "    grads = {}\n",
        "    costs = []                              # to keep track of the cost\n",
        "    m = X.shape[1]                           # number of examples\n",
        "    (n_x, n_h, n_y) = layers_dims\n",
        "\n",
        "    # Initialize parameters dictionary, by calling one of the functions you'd previously implemented\n",
        "    parameters = initialize_parameters(n_x, n_h, n_y)\n",
        "\n",
        "    # Get W1, b1, W2 and b2 from the dictionary parameters.\n",
        "    W1 = parameters[\"W1\"]\n",
        "    b1 = parameters[\"b1\"]\n",
        "    W2 = parameters[\"W2\"]\n",
        "    b2 = parameters[\"b2\"]\n",
        "\n",
        "    # Loop (gradient descent)\n",
        "\n",
        "    for i in range(0, num_iterations):\n",
        "\n",
        "        # Forward propagation: LINEAR -> RELU -> LINEAR -> SIGMOID. Inputs: \"X, W1, b1\". Output: \"A1, cache1, A2, cache2\".\n",
        "        A1, cache1 = linear_activation_forward(X, W1, b1, 'relu')\n",
        "        A2, cache2 = linear_activation_forward(A1, W2, b2, 'sigmoid')\n",
        "\n",
        "        # Compute cost\n",
        "        cost = compute_cost(A2, Y)\n",
        "\n",
        "        # Initializing backward propagation\n",
        "        dA2 = - (np.divide(Y, A2) - np.divide(1 - Y, 1 - A2))\n",
        "\n",
        "        # Backward propagation. Inputs: \"dA2, cache2, cache1\". Outputs: \"dA1, dW2, db2; also dA0 (not used), dW1, db1\".\n",
        "        dA1, dW2, db2 = linear_activation_backward(dA2, cache2, 'sigmoid')\n",
        "        dA0, dW1, db1 = linear_activation_backward(dA1, cache1, 'relu')\n",
        "\n",
        "        # Set grads['dWl'] to dW1, grads['db1'] to db1, grads['dW2'] to dW2, grads['db2'] to db2\n",
        "        grads['dW1'] = dW1\n",
        "        grads['db1'] = db1\n",
        "        grads['dW2'] = dW2\n",
        "        grads['db2'] = db2\n",
        "\n",
        "        # Update parameters.\n",
        "        parameters = update_parameters(parameters, grads, learning_rate)\n",
        "\n",
        "        # Retrieve W1, b1, W2, b2 from parameters\n",
        "        W1 = parameters[\"W1\"]\n",
        "        b1 = parameters[\"b1\"]\n",
        "        W2 = parameters[\"W2\"]\n",
        "        b2 = parameters[\"b2\"]\n",
        "\n",
        "        # Print the cost every 100 training example\n",
        "        if print_cost and i % 100 == 0:\n",
        "            print(\"Cost after iteration {}: {}\".format(i, np.squeeze(cost)))\n",
        "        if print_cost and i % 100 == 0:\n",
        "            costs.append(cost)\n",
        "\n",
        "    # plot the cost\n",
        "\n",
        "    plt.plot(np.squeeze(costs))\n",
        "    plt.ylabel('cost')\n",
        "    plt.xlabel('iterations (per tens)')\n",
        "    plt.title(\"Learning rate =\" + str(learning_rate))\n",
        "    plt.show()\n",
        "\n",
        "    return parameters"
      ]
    },
    {
      "cell_type": "markdown",
      "metadata": {
        "id": "OIP94oGAkJg4"
      },
      "source": [
        "This line of code trains the model on the training data (train_x, train_y) using the two_layer_model function.\n",
        "layers_dims specifies the dimensions of the input layer, hidden layer, and output layer.\n",
        "num_iterations is the number of times the training process will go through the entire dataset. print_cost=True indicates that the cost will be printed at regular intervals, allowing you to observe the model's learning progress."
      ]
    },
    {
      "cell_type": "code",
      "execution_count": 16,
      "metadata": {
        "colab": {
          "base_uri": "https://localhost:8080/",
          "height": 906
        },
        "id": "VdmX-MYKTRz1",
        "outputId": "dfed679d-bd38-40ba-f013-3cddc5b1afb1"
      },
      "outputs": [
        {
          "output_type": "stream",
          "name": "stdout",
          "text": [
            "Cost after iteration 0: 0.6803545622841304\n",
            "Cost after iteration 100: 0.5147460845990256\n",
            "Cost after iteration 200: 0.41097728497846664\n",
            "Cost after iteration 300: 0.3185074958023731\n",
            "Cost after iteration 400: 0.23874989295526303\n",
            "Cost after iteration 500: 0.17808330219171936\n",
            "Cost after iteration 600: 0.14870398448865435\n",
            "Cost after iteration 700: 0.10332694802315914\n",
            "Cost after iteration 800: 0.0816699675533868\n",
            "Cost after iteration 900: 0.06609031662356071\n",
            "Cost after iteration 1000: 0.05463111753245245\n",
            "Cost after iteration 1100: 0.046022781810385924\n",
            "Cost after iteration 1200: 0.03941601856767316\n",
            "Cost after iteration 1300: 0.03424241690148084\n",
            "Cost after iteration 1400: 0.03011796302550295\n",
            "Cost after iteration 1500: 0.026775712630801963\n",
            "Cost after iteration 1600: 0.024026686694350215\n",
            "Cost after iteration 1700: 0.021736146087523844\n",
            "Cost after iteration 1800: 0.019805042396002805\n",
            "Cost after iteration 1900: 0.01815954943118277\n",
            "Cost after iteration 2000: 0.01674371173815644\n",
            "Cost after iteration 2100: 0.015515032892515816\n",
            "Cost after iteration 2200: 0.014440239672542285\n",
            "Cost after iteration 2300: 0.01349297796764452\n",
            "Cost after iteration 2400: 0.012652975131849547\n"
          ]
        },
        {
          "output_type": "display_data",
          "data": {
            "text/plain": [
              "<Figure size 640x480 with 1 Axes>"
            ],
            "image/png": "[encoded data removed]"
          },
          "metadata": {}
        }
      ],
      "source": [
        "parameters = two_layer_model(train_x, train_y, layers_dims = (n_x, n_h, n_y), num_iterations = 2500, print_cost=True)"
      ]
    },
    {
      "cell_type": "markdown",
      "metadata": {
        "id": "7CL50WjDmp1n"
      },
      "source": [
        "This code uses the pickle module, a Python library for serializing and deserializing Python object structures, also known as 'pickling' and 'unpickling'.\n",
        "The trained parameters of the model (parameters) are saved to a file using pickle.dump. This is done in 'write binary' ('wb') mode.\n",
        "Saving the parameters to a file allows you to use the trained model later without needing to retrain it. You can simply load the parameters from the file and use them for predictions on new data."
      ]
    },
    {
      "cell_type": "code",
      "execution_count": 20,
      "metadata": {
        "id": "RCVe7okJq7JX"
      },
      "outputs": [],
      "source": [
        "import pickle\n",
        "\n",
        "# Save the parameters to a file\n",
        "with open('parameters.pkl', 'wb') as file:\n",
        "    pickle.dump(parameters, file)"
      ]
    },
    {
      "cell_type": "markdown",
      "source": [
        "The predict function performs forward propagation through a two-layer neural network using the trained parameters (W1, W2, b1, b2) to make predictions on input data X.\n",
        "It computes the linear transformation for each layer (np.dot(W, X) + b) and applies the appropriate activation function: ReLU for the first layer and Sigmoid for the output layer.\n",
        "An unconventional approach is used for b1, where the average of each row is taken as the bias due to its atypical shape.\n",
        "The output of the sigmoid function represents the probabilities, which are converted into binary predictions (0 or 1) based on a threshold of 0.5.\n",
        "This function encapsulates the neural network's process of predicting whether new input data (X) falls into one of two classes (e.g., cancerous or non-cancerous)."
      ],
      "metadata": {
        "id": "As3eVdyYWbMl"
      }
    },
    {
      "cell_type": "code",
      "source": [
        "def relu(z):\n",
        "    return np.maximum(0, z)\n",
        "\n",
        "def sigmoid(z):\n",
        "    return 1 / (1 + np.exp(-z))\n",
        "\n",
        "def predict(X, parameters):\n",
        "    W1 = parameters[\"W1\"]\n",
        "    b1 = parameters[\"b1\"]\n",
        "    W2 = parameters[\"W2\"]\n",
        "    b2 = parameters[\"b2\"]\n",
        "\n",
        "    # Use the average of each row of b1 as the bias for each neuron\n",
        "    b1_avg = np.mean(b1, axis=1).reshape(-1, 1)\n",
        "\n",
        "    # Forward propagation\n",
        "    Z1 = np.dot(W1, X) + b1_avg\n",
        "    A1 = relu(Z1)\n",
        "    Z2 = np.dot(W2, A1) + b2\n",
        "    A2 = sigmoid(Z2)\n",
        "\n",
        "    predictions = (A2 > 0.5).astype(int)\n",
        "    return predictions.flatten()\n",
        "\n",
        "# Usage example\n",
        "predictions = predict(test_images_flatten, parameters)"
      ],
      "metadata": {
        "id": "548GlY7cT4Ii"
      },
      "execution_count": 29,
      "outputs": []
    },
    {
      "cell_type": "markdown",
      "source": [
        "This cell defines a function to load, preprocess, and flatten images from a specified directory, normalizing them for neural network input.\n",
        "The trained neural network parameters are loaded from the 'parameters.pkl' file using the pickle module.\n",
        "Cancerous and non-cancerous test images are loaded, labeled appropriately, combined, and shuffled to prepare a test dataset.\n",
        "The test images are reshaped and fed into a predict function, which uses the loaded parameters to generate predictions.\n",
        "Finally, the model's performance is evaluated using the classification_report and confusion_matrix functions, providing key metrics like accuracy, precision, and recall."
      ],
      "metadata": {
        "id": "SqMbMZe0XKAH"
      }
    },
    {
      "cell_type": "code",
      "source": [
        "import numpy as np\n",
        "import pickle\n",
        "import os\n",
        "from tensorflow.keras.preprocessing.image import img_to_array, load_img\n",
        "from sklearn.metrics import classification_report, confusion_matrix\n",
        "\n",
        "# Function to load and preprocess images\n",
        "def load_and_preprocess_images(image_dir, target_size=(64, 64)):\n",
        "    images = []\n",
        "    for filename in os.listdir(image_dir):\n",
        "        if filename.endswith('.jpg') or filename.endswith('.png'):\n",
        "            img_path = os.path.join(image_dir, filename)\n",
        "            img = load_img(img_path, target_size=target_size)\n",
        "            img = img_to_array(img)\n",
        "            img = img / 255.0  # Normalization\n",
        "            img = img.flatten()  # Flatten the image\n",
        "            images.append(img)\n",
        "    return np.array(images)\n",
        "\n",
        "# Load model parameters\n",
        "with open('parameters.pkl', 'rb') as file:\n",
        "    parameters = pickle.load(file)\n",
        "\n",
        "\n",
        "# Load test images\n",
        "cancerous_images = load_and_preprocess_images('/content/drive/MyDrive/rosehackProject/lungData/learningData/test/LungCancer')\n",
        "non_cancerous_images = load_and_preprocess_images('/content/drive/MyDrive/rosehackProject/lungData/learningData/test/Normal cases')\n",
        "\n",
        "# Prepare labels (1 for cancerous, 0 for non-cancerous)\n",
        "labels = np.concatenate([np.ones(len(cancerous_images)), np.zeros(len(non_cancerous_images))])\n",
        "\n",
        "# Combine and shuffle images and labels\n",
        "test_images = np.concatenate([cancerous_images, non_cancerous_images])\n",
        "permutation = np.random.permutation(len(test_images))\n",
        "test_images, labels = test_images[permutation], labels[permutation]\n",
        "test_images_flatten = test_images.reshape(test_images.shape[0], -1).T\n",
        "# Make predictions\n",
        "predictions = predict(test_images_flatten, parameters)\n",
        "\n",
        "# Evaluate the model\n",
        "print(classification_report(labels, predictions))\n",
        "print(confusion_matrix(labels, predictions))\n"
      ],
      "metadata": {
        "colab": {
          "base_uri": "https://localhost:8080/"
        },
        "id": "F89pV5UW6nK7",
        "outputId": "7ea1d7df-fbd6-4933-8cb7-459204f69b8d"
      },
      "execution_count": 31,
      "outputs": [
        {
          "output_type": "stream",
          "name": "stdout",
          "text": [
            "              precision    recall  f1-score   support\n",
            "\n",
            "         0.0       0.99      0.99      0.99       207\n",
            "         1.0       0.99      0.99      0.99       248\n",
            "\n",
            "    accuracy                           0.99       455\n",
            "   macro avg       0.99      0.99      0.99       455\n",
            "weighted avg       0.99      0.99      0.99       455\n",
            "\n",
            "[[205   2]\n",
            " [  3 245]]\n"
          ]
        }
      ]
    }
  ],
  "metadata": {
    "accelerator": "GPU",
    "colab": {
      "provenance": []
    },
    "kernelspec": {
      "display_name": "Python 3",
      "name": "python3"
    },
    "language_info": {
      "name": "python"
    }
  },
  "nbformat": 4,
  "nbformat_minor": 0
}